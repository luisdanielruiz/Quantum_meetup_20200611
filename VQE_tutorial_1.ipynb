{
 "cells": [
  {
   "cell_type": "markdown",
   "metadata": {},
   "source": [
    "# Tutoral for Quantum Chemistry\n",
    "\n",
    "## 2020-06-11 \n"
   ]
  },
  {
   "cell_type": "markdown",
   "metadata": {},
   "source": [
    "![jupyter](linux.jpeg)"
   ]
  },
  {
   "cell_type": "code",
   "execution_count": 1,
   "metadata": {},
   "outputs": [],
   "source": [
    "import projectq\n",
    "from projectq.ops import All, Measure, QubitOperator, TimeEvolution\n",
    "from projectq.ops import CNOT, H, Rz, Rx, Ry, X, Z, Y\n",
    "import matplotlib.pyplot as plt\n",
    "from scipy.optimize import minimize_scalar, minimize\n",
    "import numpy as np"
   ]
  },
  {
   "cell_type": "markdown",
   "metadata": {},
   "source": [
    "## small VQE demo"
   ]
  },
  {
   "cell_type": "markdown",
   "metadata": {},
   "source": [
    "$$\n",
    "H = 0.5 X_0 + 0.7 Y_0\n",
    "$$"
   ]
  },
  {
   "cell_type": "code",
   "execution_count": 2,
   "metadata": {},
   "outputs": [
    {
     "data": {
      "text/plain": [
       "matrix([[0. +0.j , 0.5-0.7j],\n",
       "        [0.5+0.7j, 0. +0.j ]])"
      ]
     },
     "execution_count": 2,
     "metadata": {},
     "output_type": "execute_result"
    }
   ],
   "source": [
    "hamil = 0.5 * QubitOperator(\"X0\") + 0.7 * QubitOperator(\"Y0\")\n",
    "\n",
    "hamil_matrix = 0.5* X.matrix + 0.7 * Y.matrix\n",
    "hamil_matrix"
   ]
  },
  {
   "cell_type": "code",
   "execution_count": 3,
   "metadata": {},
   "outputs": [
    {
     "data": {
      "text/plain": [
       "(array([-0.86023253,  0.86023253]),\n",
       " matrix([[-0.70710678+0.j        , -0.70710678+0.j        ],\n",
       "         [ 0.41099747+0.57539646j, -0.41099747-0.57539646j]]))"
      ]
     },
     "execution_count": 3,
     "metadata": {},
     "output_type": "execute_result"
    }
   ],
   "source": [
    "np.linalg.eigh(hamil_matrix)"
   ]
  },
  {
   "cell_type": "code",
   "execution_count": 4,
   "metadata": {},
   "outputs": [],
   "source": [
    "def small_vqe(theta, hamiltonian):\n",
    "\n",
    "    energy = 0\n",
    "    eng = projectq.MainEngine()\n",
    "    qubits = eng.allocate_qureg(1)\n",
    "\n",
    "    Z | qubits[0]\n",
    "    \n",
    "    Rx(theta[0]) | qubits[0]\n",
    "\n",
    "    eng.flush()\n",
    "    energy = eng.backend.get_expectation_value(hamiltonian, qubits)\n",
    "    All(Measure) | qubits\n",
    "    return energy"
   ]
  },
  {
   "cell_type": "code",
   "execution_count": 5,
   "metadata": {},
   "outputs": [
    {
     "data": {
      "text/plain": [
       "      fun: -0.6999999999999997\n",
       " hess_inv: array([[1.4285855]])\n",
       "      jac: array([-1.49011612e-08])\n",
       "  message: 'Optimization terminated successfully.'\n",
       "     nfev: 18\n",
       "      nit: 4\n",
       "     njev: 6\n",
       "   status: 0\n",
       "  success: True\n",
       "        x: array([1.57079631])"
      ]
     },
     "execution_count": 5,
     "metadata": {},
     "output_type": "execute_result"
    }
   ],
   "source": [
    "minimum = minimize(lambda theta: small_vqe(theta,hamil), [0])\n",
    "minimum"
   ]
  },
  {
   "cell_type": "code",
   "execution_count": 6,
   "metadata": {},
   "outputs": [],
   "source": [
    "def small_vqe(theta, hamiltonian):\n",
    "\n",
    "    energy = 0\n",
    "    eng = projectq.MainEngine()\n",
    "    qubits = eng.allocate_qureg(1)\n",
    "\n",
    "    H | qubits[0]\n",
    "    \n",
    "    Rz(theta[0]) | qubits[0]\n",
    "#     Ry(theta[1]) | qubits[0]\n",
    "\n",
    "    eng.flush()\n",
    "    energy = eng.backend.get_expectation_value(hamiltonian, qubits)\n",
    "    All(Measure) | qubits\n",
    "    return energy"
   ]
  },
  {
   "cell_type": "code",
   "execution_count": 7,
   "metadata": {},
   "outputs": [
    {
     "data": {
      "text/plain": [
       "      fun: -0.8602325267042619\n",
       " hess_inv: array([[1.16333505, 0.        ],\n",
       "       [0.        , 1.        ]])\n",
       "      jac: array([-2.98023224e-08,  0.00000000e+00])\n",
       "  message: 'Optimization terminated successfully.'\n",
       "     nfev: 28\n",
       "      nit: 3\n",
       "     njev: 7\n",
       "   status: 0\n",
       "  success: True\n",
       "        x: array([-2.19104585,  0.        ])"
      ]
     },
     "execution_count": 7,
     "metadata": {},
     "output_type": "execute_result"
    }
   ],
   "source": [
    "minimum = minimize(lambda theta: small_vqe(theta,hamil), [0.,0.])\n",
    "minimum"
   ]
  },
  {
   "cell_type": "markdown",
   "metadata": {},
   "source": [
    "## Hydrogen (H2)"
   ]
  },
  {
   "cell_type": "code",
   "execution_count": 8,
   "metadata": {},
   "outputs": [],
   "source": [
    "raw_data_table_1 = np.loadtxt(\"H2/H2_hamiltonians.txt\")\n",
    "target_energies = np.loadtxt(\"H2/H2_gs_energy.txt\")"
   ]
  },
  {
   "cell_type": "code",
   "execution_count": 9,
   "metadata": {},
   "outputs": [
    {
     "data": {
      "image/png": "[encoded data removed]",
      "text/plain": [
       "<Figure size 432x288 with 1 Axes>"
      ]
     },
     "metadata": {
      "needs_background": "light"
     },
     "output_type": "display_data"
    }
   ],
   "source": [
    "bond_lengths = [k[0] for k in raw_data_table_1];\n",
    "\n",
    "plt.xlabel(\"length\")\n",
    "plt.ylabel(\"target energy\")\n",
    "plt.plot(bond_lengths, target_energies, \"b.-\",mew ='3')\n",
    "plt.show()"
   ]
  },
  {
   "cell_type": "code",
   "execution_count": 10,
   "metadata": {},
   "outputs": [],
   "source": [
    "def vqe(theta, hamiltonian):\n",
    "    \"\"\" This is the function you need to test your parameterized quantum circuit.\n",
    "    Args:\n",
    "        theta (list): parameters\n",
    "        hamiltonian (QubitOperator): Hamiltonian of the system\n",
    "    Returns:\n",
    "        energy of the wavefunction for parameters theta\n",
    "    \"\"\"\n",
    "    \n",
    "    try:\n",
    "        len(theta)\n",
    "    except:\n",
    "        theta = [theta]\n",
    "    \n",
    "    # Initialize the energy\n",
    "    energy = 0\n",
    "    eng = projectq.MainEngine()\n",
    "    qubits = eng.allocate_qureg(2)\n",
    "    \n",
    "    \n",
    "\n",
    "    X | qubits[0]\n",
    "    \n",
    "    Rx(-np.pi/2) | qubits[0]\n",
    "    Ry(np.pi/2) | qubits[1]\n",
    "    CNOT |  (qubits[1],qubits[0])\n",
    "    \n",
    "    Rz(theta[0]) | qubits[0]\n",
    "\n",
    "    CNOT |  (qubits[1],qubits[0])\n",
    "    \n",
    "    Rx(np.pi/2) | qubits[0]\n",
    "    Ry(-np.pi/2) | qubits[1]\n",
    "    \n",
    "### ================================================\n",
    "    \n",
    "#     X | qubits[0]\n",
    "    \n",
    "#     ansatz_op = QubitOperator('X0 Y1')\n",
    "#     # Apply the unitary e^{-i * ansatz_op * t}\n",
    "#     TimeEvolution(theta[0], ansatz_op) | qubits\n",
    "    \n",
    "    \n",
    "    eng.flush()\n",
    "    energy = eng.backend.get_expectation_value(hamiltonian, qubits)\n",
    "    All(Measure) | qubits\n",
    "    return energy"
   ]
  },
  {
   "cell_type": "markdown",
   "metadata": {},
   "source": [
    "## define some fuinctions"
   ]
  },
  {
   "cell_type": "code",
   "execution_count": 12,
   "metadata": {},
   "outputs": [],
   "source": [
    "def loss_H_H2(theta,config_H):\n",
    "    \n",
    "    hamiltonian = config_H[1] * QubitOperator(())  # == identity\n",
    "    hamiltonian += config_H[2] * QubitOperator(\"Z0\")\n",
    "    hamiltonian += config_H[3] * QubitOperator(\"Z1\")\n",
    "    hamiltonian += config_H[4] * QubitOperator(\"Z0 Z1\")\n",
    "    hamiltonian += config_H[5] * QubitOperator(\"X0 X1\")\n",
    "    hamiltonian += config_H[6] * QubitOperator(\"Y0 Y1\")\n",
    "    \n",
    "    return vqe(theta,hamiltonian)"
   ]
  },
  {
   "cell_type": "markdown",
   "metadata": {},
   "source": [
    "## Solve VQE"
   ]
  },
  {
   "cell_type": "code",
   "execution_count": 16,
   "metadata": {},
   "outputs": [
    {
     "name": "stdout",
     "output_type": "stream",
     "text": [
      "i= 9 \t VQE_theta= [0.19131401]\n",
      "i= 19 \t VQE_theta= [0.45037408]\n",
      "i= 29 \t VQE_theta= [0.85863219]\n",
      "i= 39 \t VQE_theta= [1.22398388]\n",
      "i= 49 \t VQE_theta= [1.42336612]\n"
     ]
    }
   ],
   "source": [
    "VQE_energies = []\n",
    "VQE_thetas=[]\n",
    "raw_data_hamiltonian = raw_data_table_1\n",
    "\n",
    "for i in range(len(raw_data_hamiltonian)):\n",
    "    \n",
    "    # Use Scipy to perform the classical outerloop of the variational\n",
    "    # eigensolver, i.e., the minimization of the parameter theta.\n",
    "    \n",
    "    # See documentation of Scipy for different optimizers.\n",
    "    config_H = raw_data_hamiltonian[i,:]\n",
    "    \n",
    "    theta = 0\n",
    "    minimum = minimize(loss_H_H2, theta, args = (config_H))\n",
    "\n",
    "#     minimum = minimize_scalar(lambda theta: loss_H_H2(theta,config_H))\n",
    "\n",
    "    VQE_energies.append(minimum.fun)\n",
    "    VQE_thetas.append(minimum.x)\n",
    "    \n",
    "    if (i+1)%10 == 0:\n",
    "        print(\"i=\",i,\"\\t VQE_theta=\",minimum.x)\n",
    "        \n",
    "VQE_thetas = np.array(VQE_thetas)\n",
    "        "
   ]
  },
  {
   "cell_type": "code",
   "execution_count": 17,
   "metadata": {},
   "outputs": [
    {
     "data": {
      "text/plain": [
       "      fun: -0.9429725037828012\n",
       " hess_inv: array([[3.3719122]])\n",
       "      jac: array([7.4505806e-09])\n",
       "  message: 'Optimization terminated successfully.'\n",
       "     nfev: 15\n",
       "      nit: 3\n",
       "     njev: 5\n",
       "   status: 0\n",
       "  success: True\n",
       "        x: array([1.46777259])"
      ]
     },
     "execution_count": 17,
     "metadata": {},
     "output_type": "execute_result"
    }
   ],
   "source": [
    "minimum"
   ]
  },
  {
   "cell_type": "code",
   "execution_count": 18,
   "metadata": {},
   "outputs": [
    {
     "data": {
      "image/png": "[encoded data removed]",
      "text/plain": [
       "<Figure size 432x288 with 1 Axes>"
      ]
     },
     "metadata": {
      "needs_background": "light"
     },
     "output_type": "display_data"
    }
   ],
   "source": [
    "plt.xlabel(\"Bond length [Angstrom]\")\n",
    "plt.ylabel(\"Total Energy [Hartree]\")\n",
    "plt.title(\"Variational Quantum Eigensolver\")\n",
    "plt.plot(bond_lengths, VQE_energies, \"r.-\",mew ='3',\n",
    "         label=\"VQE energy of molecular hydrogen\")\n",
    "plt.plot(bond_lengths, target_energies, \"b-\",\n",
    "         label=\"target energy\")\n",
    "plt.legend()\n",
    "plt.show()"
   ]
  },
  {
   "cell_type": "code",
   "execution_count": 19,
   "metadata": {},
   "outputs": [
    {
     "data": {
      "image/png": "[encoded data removed]",
      "text/plain": [
       "<Figure size 432x288 with 1 Axes>"
      ]
     },
     "metadata": {
      "needs_background": "light"
     },
     "output_type": "display_data"
    }
   ],
   "source": [
    "plt.xlabel(\"Bond length [Angstrom]\")\n",
    "plt.ylabel(\"theta\")\n",
    "plt.title(\"variational parameter\")\n",
    "plt.plot(bond_lengths, VQE_thetas, \"r.-\",\n",
    "         label=\"variational parameter of molecular hydrogen\")\n",
    "plt.legend()\n",
    "plt.show()"
   ]
  },
  {
   "cell_type": "markdown",
   "metadata": {},
   "source": [
    "# Let's try something else\n",
    "## molecular LiH"
   ]
  },
  {
   "cell_type": "code",
   "execution_count": null,
   "metadata": {},
   "outputs": [],
   "source": []
  },
  {
   "cell_type": "code",
   "execution_count": 20,
   "metadata": {},
   "outputs": [],
   "source": [
    "import projectq\n",
    "from projectq.ops import All, Measure, QubitOperator, TimeEvolution, X\n",
    "from projectq.ops import CNOT, H, Rz, Rx, Ry, X, Z, Y\n",
    "import matplotlib.pyplot as plt\n",
    "from scipy.optimize import minimize_scalar\n",
    "import numpy as np\n",
    "from numpy.linalg import norm"
   ]
  },
  {
   "cell_type": "code",
   "execution_count": 21,
   "metadata": {},
   "outputs": [],
   "source": [
    "config_Hs= np.loadtxt(\"LiH/coeff_hams_more.txt\")[:-2,:]\n",
    "bond_lengths=np.loadtxt(\"LiH/spacings_more.txt\")[:-2]\n",
    "real_energies=np.loadtxt(\"LiH/gs_energies_more.txt\")[:-2]\n",
    "real_thetas=np.loadtxt(\"LiH/thetas_more.txt\")[:-2]\n",
    "n_samples,n_features=config_Hs.shape\n",
    "operator_list=[(),\"Z0\",\"Z1\",\"Z2\", \"Y0 Y1\", \"X0 X1\",\"Y0 Y2\", \"X0 X2\", \"Z0 Z1\",\"Z0 Z2\", \"Y1 Y2\", \"X1 X2\", \"Z1 Z2\"]"
   ]
  },
  {
   "cell_type": "code",
   "execution_count": 22,
   "metadata": {},
   "outputs": [
    {
     "data": {
      "image/png": "[encoded data removed]",
      "text/plain": [
       "<Figure size 432x288 with 1 Axes>"
      ]
     },
     "metadata": {
      "needs_background": "light"
     },
     "output_type": "display_data"
    }
   ],
   "source": [
    "plt.figure(0)\n",
    "plt.plot(bond_lengths, real_energies, \"r.-\",\n",
    "         label=\"Ground-state energy of molecular LiH\")\n",
    "\n",
    "plt.ylabel('Energy in Hartree')\n",
    "plt.xlabel('Bond length in angstrom')\n",
    "plt.legend()\n",
    "plt.show()"
   ]
  },
  {
   "cell_type": "code",
   "execution_count": 23,
   "metadata": {},
   "outputs": [],
   "source": [
    "def ham_LiH(config_H):\n",
    "    #bond_distances.append(config_H[i,0])\n",
    "    hamiltonian=config_H[0]*QubitOperator(operator_list[0])\n",
    "    for j in range(1,n_features):\n",
    "        hamiltonian+=config_H[j]*QubitOperator(operator_list[j])    \n",
    "    return hamiltonian\n",
    "\n",
    "hams = [ham_LiH(conf) for index, conf in enumerate(config_Hs)]"
   ]
  },
  {
   "cell_type": "code",
   "execution_count": 24,
   "metadata": {},
   "outputs": [],
   "source": [
    "def variational_quantum_eigensolver(theta, hamiltonian):\n",
    "    \"\"\"\n",
    "    Args:\n",
    "        theta (float): variational parameter for ansatz wavefunction\n",
    "        hamiltonian (QubitOperator): Hamiltonian of the system\n",
    "    Returns:\n",
    "        energy of the wavefunction for parameter theta\n",
    "    \"\"\"\n",
    "    # Create a ProjectQ compiler with a simulator as a backend\n",
    "    eng = projectq.MainEngine()\n",
    "    # Allocate 3 qubits in state |00>\n",
    "    wf = eng.allocate_qureg(3)\n",
    "    # Initialize the Hartree Fock state |111>\n",
    "    X | wf[0]\n",
    "    X | wf[1]\n",
    "    X | wf[2]\n",
    "    \n",
    "    Rx(-np.pi/2) | wf[0]\n",
    "    Ry(np.pi/2) | wf[1]\n",
    "    CNOT |  (wf[0],wf[1])\n",
    "    \n",
    "    Rz(theta[0]) | wf[1]\n",
    "\n",
    "    CNOT |  (wf[0],wf[1])\n",
    "    Rx(np.pi/2) | wf[0]\n",
    "    Ry(-np.pi/2) | wf[1]\n",
    "    \n",
    "    ########\n",
    "    Rx(-np.pi/2) | wf[1]\n",
    "    Ry(np.pi/2) | wf[2]\n",
    "    CNOT |  (wf[2],wf[1])\n",
    "    \n",
    "    Rz(theta[1]) | wf[1]\n",
    "\n",
    "    CNOT |  (wf[2],wf[1])\n",
    "    Rx(np.pi/2) | wf[1]\n",
    "    Ry(-np.pi/2) | wf[2]\n",
    "\n",
    "    # flush all gates\n",
    "    eng.flush()\n",
    "    # Calculate the energy.\n",
    "    # The simulator can directly return expectation values, while on a\n",
    "    # real quantum devices one would have to measure each term of the\n",
    "    # Hamiltonian.\n",
    "    energy = eng.backend.get_expectation_value(hamiltonian, wf)\n",
    "    # Measure in order to return to return to a classical state\n",
    "    # (as otherwise the simulator will give an error)\n",
    "    All(Measure) | wf\n",
    "    return energy\n",
    "\n",
    "def loss_H(theta,config_H):\n",
    "     \n",
    "    hams = ham_LiH(config_H)\n",
    "    \n",
    "    return variational_quantum_eigensolver(theta,hams)"
   ]
  },
  {
   "cell_type": "code",
   "execution_count": 25,
   "metadata": {},
   "outputs": [
    {
     "name": "stdout",
     "output_type": "stream",
     "text": [
      "i= 9 \t theta= [-0.02615015  3.14128899]\n",
      "i= 19 \t theta= [-0.06528889  3.14099858]\n",
      "i= 29 \t theta= [-0.34201958  3.13909599]\n",
      "i= 39 \t theta= [-1.19286361  3.1416637 ]\n"
     ]
    }
   ],
   "source": [
    "VQE_energies = []\n",
    "thetas=[]\n",
    "for i in range(len(bond_lengths)):\n",
    "    \n",
    "    # Use Scipy to perform the classical outerloop of the variational\n",
    "    # eigensolver, i.e., the minimization of the parameter theta.\n",
    "    \n",
    "    # See documentation of Scipy for different optimizers.\n",
    "    config_H = config_Hs[i,:]\n",
    "#     minimum = minimize_scalar(lambda theta: ,[0.5,0.5])\n",
    "    minimum = minimize(lambda theta: loss_H(theta,config_H), [0.5,0.5],method='nelder-mead',\n",
    "               options={'xtol': 1e-5})\n",
    "    VQE_energies.append(minimum.fun)\n",
    "    thetas.append(minimum.x)\n",
    "    if (i+1)%10 == 0:\n",
    "        print(\"i=\",i,\"\\t theta=\",minimum.x)\n",
    "\n",
    "# np.savetxt(\"VQE_energies.txt\",np.array(VQE_energies))"
   ]
  },
  {
   "cell_type": "code",
   "execution_count": 26,
   "metadata": {},
   "outputs": [
    {
     "data": {
      "image/png": "[encoded data removed]",
      "text/plain": [
       "<Figure size 432x288 with 1 Axes>"
      ]
     },
     "metadata": {
      "needs_background": "light"
     },
     "output_type": "display_data"
    }
   ],
   "source": [
    "%matplotlib inline\n",
    "plt.figure()\n",
    "\n",
    "plt.plot(bond_lengths, real_energies, \"b-\",\n",
    "         label=\"Ground-state energy of molecular LiH\")\n",
    "plt.plot(bond_lengths, VQE_energies, \"r.\",\n",
    "         label=\"VQE energy of molecular LiH\")\n",
    "\n",
    "plt.ylabel('Energy in Hartree')\n",
    "plt.xlabel('Bond length in angstrom')\n",
    "plt.legend()\n",
    "plt.show()"
   ]
  },
  {
   "cell_type": "code",
   "execution_count": null,
   "metadata": {},
   "outputs": [],
   "source": []
  },
  {
   "cell_type": "code",
   "execution_count": null,
   "metadata": {},
   "outputs": [],
   "source": []
  }
 ],
 "metadata": {
  "kernelspec": {
   "display_name": "Python [conda env:root] *",
   "language": "python",
   "name": "conda-root-py"
  },
  "language_info": {
   "codemirror_mode": {
    "name": "ipython",
    "version": 3
   },
   "file_extension": ".py",
   "mimetype": "text/x-python",
   "name": "python",
   "nbconvert_exporter": "python",
   "pygments_lexer": "ipython3",
   "version": "3.6.8"
  }
 },
 "nbformat": 4,
 "nbformat_minor": 4
}
